{
 "cells": [
  {
   "cell_type": "code",
   "execution_count": 2,
   "metadata": {},
   "outputs": [],
   "source": [
    "import tabula\n",
    "import tabulate\n",
    "\n"
   ]
  },
  {
   "cell_type": "code",
   "execution_count": 4,
   "metadata": {},
   "outputs": [],
   "source": [
    "import PyPDF2\n",
    "import pandas as pd\n",
    "import os"
   ]
  },
  {
   "cell_type": "code",
   "execution_count": 7,
   "metadata": {},
   "outputs": [
    {
     "name": "stdout",
     "output_type": "stream",
     "text": [
      "C:/Users/a---f/Documents/dhamma/lista_curso02dias.pdf\n"
     ]
    }
   ],
   "source": [
    "\n",
    "\n",
    "# Obtener la ruta del directorio del notebook\n",
    "directorio_notebook = os.path.dirname(os.path.abspath(''))\n",
    "\n",
    "# Nombre del archivo PDF\n",
    "nombre_pdf = \"C:/Users/a---f/Documents/dhamma/lista_curso02dias.pdf\"\n",
    "\n",
    "# Construir la ruta completa al archivo PDF\n",
    "ruta_do_pdf = os.path.join(directorio_notebook, nombre_pdf)\n",
    "\n",
    "print(ruta_do_pdf)\n",
    "\n",
    "# Ahora, puedes abrir el archivo PDF\n",
    "with open(ruta_do_pdf, 'rb') as archivo_pdf:\n",
    "    # Realizar operaciones con el archivo PDF aquí\n",
    "    pass\n"
   ]
  },
  {
   "cell_type": "code",
   "execution_count": null,
   "metadata": {},
   "outputs": [],
   "source": [
    "def pdf_para_dataframe(ruta_arquivo):\n",
    "    # Extrai tabelas do arquivo PDF\n",
    "    tabelas = camelot.read_pdf(ruta_arquivo, pages='all')\n",
    "\n",
    "    # Inicializa um DataFrame vazio para armazenar as tabelas combinadas\n",
    "    dataframe_combinado = pd.DataFrame()\n",
    "\n",
    "    # Combina todas as tabelas em um único DataFrame\n",
    "    for tabela in tabelas:\n",
    "        df = tabela.copy()\n",
    "        dataframe_combinado = pd.concat([dataframe_combinado, df], ignore_index=True)\n",
    "\n",
    "    return dataframe_combinado\n",
    "\n",
    "# Rota do arquivo PDF no seu computador\n",
    "ruta_do_pdf = \"C:/Users/a---f/Documents/dhamma/lista_curso02dias.pdf\"\n",
    "\n",
    "# Chama a função para converter o PDF em um DataFrame único\n",
    "dataframe_combinado2 = pdf_para_dataframe(ruta_do_pdf)\n",
    "dataframe_combinado2"
   ]
  },
  {
   "cell_type": "code",
   "execution_count": 14,
   "metadata": {},
   "outputs": [
    {
     "ename": "AttributeError",
     "evalue": "'_io.BufferedReader' object has no attribute 'lower'",
     "output_type": "error",
     "traceback": [
      "\u001b[1;31m---------------------------------------------------------------------------\u001b[0m",
      "\u001b[1;31mAttributeError\u001b[0m                            Traceback (most recent call last)",
      "Cell \u001b[1;32mIn[14], line 24\u001b[0m\n\u001b[0;32m     21\u001b[0m ruta_do_pdf \u001b[38;5;241m=\u001b[39m \u001b[38;5;124m\"\u001b[39m\u001b[38;5;124mC:/Users/a---f/Documents/dhamma/lista_curso02dias.pdf\u001b[39m\u001b[38;5;124m\"\u001b[39m\n\u001b[0;32m     23\u001b[0m \u001b[38;5;66;03m# Llama a la función para convertir el PDF en un DataFrame único\u001b[39;00m\n\u001b[1;32m---> 24\u001b[0m dataframe_combinado2 \u001b[38;5;241m=\u001b[39m \u001b[43mpdf_para_dataframe\u001b[49m\u001b[43m(\u001b[49m\u001b[43mruta_do_pdf\u001b[49m\u001b[43m)\u001b[49m\n",
      "Cell \u001b[1;32mIn[14], line 8\u001b[0m, in \u001b[0;36mpdf_para_dataframe\u001b[1;34m(archivo_pdf)\u001b[0m\n\u001b[0;32m      4\u001b[0m \u001b[38;5;28;01mdef\u001b[39;00m \u001b[38;5;21mpdf_para_dataframe\u001b[39m(archivo_pdf):\n\u001b[0;32m      5\u001b[0m     \u001b[38;5;66;03m# Abre el archivo PDF\u001b[39;00m\n\u001b[0;32m      6\u001b[0m     \u001b[38;5;28;01mwith\u001b[39;00m \u001b[38;5;28mopen\u001b[39m(archivo_pdf, \u001b[38;5;124m'\u001b[39m\u001b[38;5;124mrb\u001b[39m\u001b[38;5;124m'\u001b[39m) \u001b[38;5;28;01mas\u001b[39;00m archivo:\n\u001b[0;32m      7\u001b[0m         \u001b[38;5;66;03m# Lee el archivo PDF y extrae las tablas\u001b[39;00m\n\u001b[1;32m----> 8\u001b[0m         tabelas \u001b[38;5;241m=\u001b[39m \u001b[43mcamelot\u001b[49m\u001b[38;5;241;43m.\u001b[39;49m\u001b[43mread_pdf\u001b[49m\u001b[43m(\u001b[49m\u001b[43marchivo\u001b[49m\u001b[43m,\u001b[49m\u001b[43m \u001b[49m\u001b[43mpages\u001b[49m\u001b[38;5;241;43m=\u001b[39;49m\u001b[38;5;124;43m'\u001b[39;49m\u001b[38;5;124;43mall\u001b[39;49m\u001b[38;5;124;43m'\u001b[39;49m\u001b[43m,\u001b[49m\u001b[43m \u001b[49m\u001b[43mflavor\u001b[49m\u001b[38;5;241;43m=\u001b[39;49m\u001b[38;5;124;43m'\u001b[39;49m\u001b[38;5;124;43mstream\u001b[39;49m\u001b[38;5;124;43m'\u001b[39;49m\u001b[43m)\u001b[49m\n\u001b[0;32m     10\u001b[0m     \u001b[38;5;66;03m# Inicializa un DataFrame vacío para almacenar las tablas combinadas\u001b[39;00m\n\u001b[0;32m     11\u001b[0m     dataframe_combinado \u001b[38;5;241m=\u001b[39m pd\u001b[38;5;241m.\u001b[39mDataFrame()\n",
      "File \u001b[1;32mc:\\Users\\a---f\\AppData\\Local\\Programs\\Python\\Python312\\Lib\\site-packages\\camelot\\io.py:111\u001b[0m, in \u001b[0;36mread_pdf\u001b[1;34m(filepath, pages, password, flavor, suppress_stdout, layout_kwargs, **kwargs)\u001b[0m\n\u001b[0;32m    108\u001b[0m     warnings\u001b[38;5;241m.\u001b[39msimplefilter(\u001b[38;5;124m\"\u001b[39m\u001b[38;5;124mignore\u001b[39m\u001b[38;5;124m\"\u001b[39m)\n\u001b[0;32m    110\u001b[0m validate_input(kwargs, flavor\u001b[38;5;241m=\u001b[39mflavor)\n\u001b[1;32m--> 111\u001b[0m p \u001b[38;5;241m=\u001b[39m \u001b[43mPDFHandler\u001b[49m\u001b[43m(\u001b[49m\u001b[43mfilepath\u001b[49m\u001b[43m,\u001b[49m\u001b[43m \u001b[49m\u001b[43mpages\u001b[49m\u001b[38;5;241;43m=\u001b[39;49m\u001b[43mpages\u001b[49m\u001b[43m,\u001b[49m\u001b[43m \u001b[49m\u001b[43mpassword\u001b[49m\u001b[38;5;241;43m=\u001b[39;49m\u001b[43mpassword\u001b[49m\u001b[43m)\u001b[49m\n\u001b[0;32m    112\u001b[0m kwargs \u001b[38;5;241m=\u001b[39m remove_extra(kwargs, flavor\u001b[38;5;241m=\u001b[39mflavor)\n\u001b[0;32m    113\u001b[0m tables \u001b[38;5;241m=\u001b[39m p\u001b[38;5;241m.\u001b[39mparse(\n\u001b[0;32m    114\u001b[0m     flavor\u001b[38;5;241m=\u001b[39mflavor,\n\u001b[0;32m    115\u001b[0m     suppress_stdout\u001b[38;5;241m=\u001b[39msuppress_stdout,\n\u001b[0;32m    116\u001b[0m     layout_kwargs\u001b[38;5;241m=\u001b[39mlayout_kwargs,\n\u001b[0;32m    117\u001b[0m     \u001b[38;5;241m*\u001b[39m\u001b[38;5;241m*\u001b[39mkwargs\n\u001b[0;32m    118\u001b[0m )\n",
      "File \u001b[1;32mc:\\Users\\a---f\\AppData\\Local\\Programs\\Python\\Python312\\Lib\\site-packages\\camelot\\handlers.py:41\u001b[0m, in \u001b[0;36mPDFHandler.__init__\u001b[1;34m(self, filepath, pages, password)\u001b[0m\n\u001b[0;32m     39\u001b[0m     filepath \u001b[38;5;241m=\u001b[39m download_url(filepath)\n\u001b[0;32m     40\u001b[0m \u001b[38;5;28mself\u001b[39m\u001b[38;5;241m.\u001b[39mfilepath \u001b[38;5;241m=\u001b[39m filepath\n\u001b[1;32m---> 41\u001b[0m \u001b[38;5;28;01mif\u001b[39;00m \u001b[38;5;129;01mnot\u001b[39;00m \u001b[43mfilepath\u001b[49m\u001b[38;5;241;43m.\u001b[39;49m\u001b[43mlower\u001b[49m()\u001b[38;5;241m.\u001b[39mendswith(\u001b[38;5;124m\"\u001b[39m\u001b[38;5;124m.pdf\u001b[39m\u001b[38;5;124m\"\u001b[39m):\n\u001b[0;32m     42\u001b[0m     \u001b[38;5;28;01mraise\u001b[39;00m \u001b[38;5;167;01mNotImplementedError\u001b[39;00m(\u001b[38;5;124m\"\u001b[39m\u001b[38;5;124mFile format not supported\u001b[39m\u001b[38;5;124m\"\u001b[39m)\n\u001b[0;32m     44\u001b[0m \u001b[38;5;28;01mif\u001b[39;00m password \u001b[38;5;129;01mis\u001b[39;00m \u001b[38;5;28;01mNone\u001b[39;00m:\n",
      "\u001b[1;31mAttributeError\u001b[0m: '_io.BufferedReader' object has no attribute 'lower'"
     ]
    }
   ],
   "source": [
    "import camelot\n",
    "import pandas as pd\n",
    "\n",
    "def pdf_para_dataframe(archivo_pdf):\n",
    "    # Abre el archivo PDF\n",
    "    with open(archivo_pdf, 'rb') as archivo:\n",
    "        # Lee el archivo PDF y extrae las tablas\n",
    "        tabelas = camelot.read_pdf(archivo, pages='all', flavor='stream')\n",
    "    \n",
    "    # Inicializa un DataFrame vacío para almacenar las tablas combinadas\n",
    "    dataframe_combinado = pd.DataFrame()\n",
    "\n",
    "    # Combina todas las tablas en un solo DataFrame\n",
    "    for tabela in tabelas:\n",
    "        df = tabela.df\n",
    "        dataframe_combinado = pd.concat([dataframe_combinado, df], ignore_index=True)\n",
    "\n",
    "    return dataframe_combinado\n",
    "\n",
    "# Ruta del archivo PDF\n",
    "ruta_do_pdf = \"C:/Users/a---f/Documents/dhamma/lista_curso02dias.pdf\"\n",
    "\n",
    "# Llama a la función para convertir el PDF en un DataFrame único\n",
    "dataframe_combinado2 = pdf_para_dataframe(ruta_do_pdf)\n"
   ]
  },
  {
   "cell_type": "code",
   "execution_count": 16,
   "metadata": {},
   "outputs": [
    {
     "name": "stdout",
     "output_type": "stream",
     "text": [
      "['Recepción de registro - Día\\n0Colombia - Dhamma Gutti, San Antonio de Pereira, Cali, Pereira\\nLista de estudiantes\\nCoordinador: Este reporte contiene listas separadas (hombres/mujeres) de estudiantes y servidores del curso. \\nCada lista contiene secciones para estudiantes nuevos, antiguos y servidores en orden alfabético por apellido. \\nReporte para recepción de registro; marcar a los estudiantes que llegan al curso. \\nIndicar habitación y cama en la columna de Alojamiento, conforme las asigne, en el Resumen de inscripciones del\\ncurso y/o reportes de alojamiento. \\nServidor(a) que registra llegada de estudiantes debe marcar en el margen izquierdo de la lista a los que ya\\nrecibieron y llenaron los formularios. \\nFechas del curso,\\ntipo:\\nID Curso del centro\\nProfesores del curso:\\n05/04/2024 - 07/04/2024, 2DayOld\\n2D050424\\nLeon Naranjo\\nHombres antiguos\\nTipo de alojamiento\\nResidencia\\nDía/hora \\nde llegada\\nCell Phone\\nNotas\\n \\n   De La Nuez Daher, Manuel Joseph\\n____\\n \\n   Guvakov, Fedor\\n____\\n \\n   Londoño Vega, Alejandro Jose\\n____\\n+57 3104436381\\n \\n   Ubaque Caicedo, Juan Andres\\n____\\n+57 3013744888\\n \\n   Valencia Galeano, Jaime Hernán\\n____\\n+57 3008790212\\nTotal Hombres antiguos: 5\\nServidores\\nTipo de alojamiento\\nResidencia\\nDía/hora \\nde llegada\\nCell Phone\\nNotas\\n \\n   Velásquez Alzate, Christian David\\n____\\n+57 3225397138\\nTotal Servidores: 1', 'Mujeres antiguas\\nTipo de alojamiento\\nResidencia\\nDía/hora \\nde llegada\\nCell Phone\\nNotas\\n \\n   Avunjian, Alina\\n____\\n+1 323-542-5929\\n \\n   Buitrago Vega, Jennifer Antonia\\n____\\n+32 460974455\\n \\n   Cruz Palacios, Luisa Fernanda\\n____\\n+57 3125300770\\n \\n   Granda Vargas, Lina Maria\\n____\\n+57 3014286851\\n \\n   Jaramillo Posada, Isabel\\n____\\n+57 3164416524\\n \\n   Kok, Sylvie\\n____\\n+57 3147077654\\n \\n   Lema Ardila, Paulette Estefania\\n____\\n+57 3217592382\\n \\n   Quintero Restrepo, Malena\\n____\\n+57 3004150488\\n \\n   Valencia Zapata, Ana María\\n____\\n+57 3117395532\\n \\n   Villa Sosadias, Lorenza\\n____\\n+57 3124826903\\n \\n   Zambrano Garcia, Daniela Alexandra\\n____\\n+57 3027436483\\nTotal Mujeres antiguas: 11\\nServidoras\\nTipo de alojamiento\\nResidencia\\nDía/hora \\nde llegada\\nCell Phone\\nNotas\\n \\n   Lim, Alexandra\\n____\\n+61 498019888\\n \\n   Londoño Zapata, Yuliana Maria\\n____\\n+57 3006422559\\nTotal Servidoras: 2']\n"
     ]
    }
   ],
   "source": [
    "def extract_text_from_pdf(pdf_path):\n",
    "    \"\"\"\n",
    "    Función para extraer texto de un archivo PDF.\n",
    "    \"\"\"\n",
    "    text = []\n",
    "    with open(pdf_path, \"rb\") as f:\n",
    "        reader = PyPDF2.PdfReader(f)\n",
    "        for page_num in range(len(reader.pages)):\n",
    "            text.append(reader.pages[page_num].extract_text())\n",
    "    return text\n",
    "print(extract_text_from_pdf('lista_curso02dias.pdf'))"
   ]
  },
  {
   "cell_type": "code",
   "execution_count": null,
   "metadata": {},
   "outputs": [],
   "source": []
  },
  {
   "cell_type": "code",
   "execution_count": null,
   "metadata": {},
   "outputs": [],
   "source": [
    "import PyPDF2\n",
    "import pandas as pd\n",
    "\n",
    "def extract_text_from_pdf(pdf_path):\n",
    "    \"\"\"\n",
    "    Función para extraer texto de un archivo PDF.\n",
    "    \"\"\"\n",
    "    text = \"\"\n",
    "    with open(pdf_path, \"rb\") as f:\n",
    "        reader = PyPDF2.PdfFileReader(f)\n",
    "        for page_num in range(reader.numPages):\n",
    "            text += reader.page[page_num].extractText()\n",
    "    return text\n",
    "\n",
    "def process_text(text):\n",
    "    \"\"\"\n",
    "    Función para procesar el texto y concatenar 3 celdas y dejar 4 celdas en total.\n",
    "    \"\"\"\n",
    "    lines = text.split(\"\\n\")\n",
    "    processed_data = []\n",
    "    for i in range(0, len(lines), 3):\n",
    "        row = lines[i:i+3]  # Tomar 3 celdas\n",
    "        while len(row) < 3:  # Asegurar que haya 3 celdas\n",
    "            row.append('')\n",
    "        processed_data.append(row)\n",
    "    return processed_data\n",
    "\n",
    "def save_to_excel(data, excel_path):\n",
    "    \"\"\"\n",
    "    Función para guardar los datos en un archivo Excel.\n",
    "    \"\"\"\n",
    "    df = pd.DataFrame(data, columns=[\"Columna1\", \"Columna2\", \"Columna3\"])\n",
    "    df.to_excel(excel_path, index=False, engine='openpyxl')\n",
    "\n",
    "def main():\n",
    "    pdf_path = \"tu_archivo.pdf\"\n",
    "    excel_path = \"resultado.xlsx\"\n",
    "\n",
    "    # Extraer texto del PDF\n",
    "    text = extract_text_from_pdf(pdf_path)\n",
    "\n",
    "    # Procesar el texto\n",
    "    processed_data = process_text(text)\n",
    "\n",
    "    # Guardar en Excel\n",
    "    save_to_excel(processed_data, excel_path)\n",
    "\n",
    "if __name__ == \"__main__\":\n",
    "    main()\n"
   ]
  }
 ],
 "metadata": {
  "kernelspec": {
   "display_name": "Python 3",
   "language": "python",
   "name": "python3"
  },
  "language_info": {
   "codemirror_mode": {
    "name": "ipython",
    "version": 3
   },
   "file_extension": ".py",
   "mimetype": "text/x-python",
   "name": "python",
   "nbconvert_exporter": "python",
   "pygments_lexer": "ipython3",
   "version": "3.12.1"
  }
 },
 "nbformat": 4,
 "nbformat_minor": 2
}
