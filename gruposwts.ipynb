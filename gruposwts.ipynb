{
 "cells": [
  {
   "cell_type": "code",
   "execution_count": 1,
   "metadata": {},
   "outputs": [],
   "source": [
    "import pandas as pd"
   ]
  },
  {
   "cell_type": "code",
   "execution_count": null,
   "metadata": {},
   "outputs": [],
   "source": [
    "archivo = 'lista.xlsx'\n",
    "df = pd.read_excel(archivo)\n",
    "df = df.loc[df['Estatus Inscripción'].isin(['Confirmado', 'Inscrito'])]\n",
    "df \n"
   ]
  },
  {
   "cell_type": "code",
   "execution_count": null,
   "metadata": {},
   "outputs": [],
   "source": [
    "df1 = df[['Student First', 'Student Last', 'Cell Phone']].copy()\n",
    "\n",
    "# Solicitar al usuario que ingrese la fecha del curso\n",
    "fecha_curso = input('Ingrese fecha del curso: ')\n",
    "\n",
    "# Asignar la fecha del curso a una nueva columna 'curso'\n",
    "df1.loc[:, 'curso'] = fecha_curso\n",
    "\n",
    "# Concatenar la fecha del curso con el nombre del estudiante para formar una nueva columna 'Name'\n",
    "df1.loc[:, 'Name'] = df1['curso'] + ' ' + df1['Student First'] + ' ' + df1['Student Last']\n",
    "\n",
    "print(df1)\n"
   ]
  },
  {
   "cell_type": "code",
   "execution_count": null,
   "metadata": {},
   "outputs": [],
   "source": [
    "df1['Phone 1 - Value'] = df1['Cell Phone']\n",
    "df2 = df1[['Name','Phone 1 - Value']]\n",
    "df2"
   ]
  },
  {
   "cell_type": "code",
   "execution_count": null,
   "metadata": {},
   "outputs": [],
   "source": [
    "df_contacts = pd.read_csv('contactos.csv')\n",
    "df_contacts['Name'] = df2['Name']\n",
    "df_contacts['Phone 1 - Value'] = df2['Phone 1 - Value']\n",
    "df_contacts \n"
   ]
  },
  {
   "cell_type": "code",
   "execution_count": 7,
   "metadata": {},
   "outputs": [],
   "source": [
    "nombre_csv = fecha_curso + '.csv'\n",
    "df_contacts.to_csv(nombre_csv, index=False)"
   ]
  }
 ],
 "metadata": {
  "kernelspec": {
   "display_name": "Python 3",
   "language": "python",
   "name": "python3"
  },
  "language_info": {
   "codemirror_mode": {
    "name": "ipython",
    "version": 3
   },
   "file_extension": ".py",
   "mimetype": "text/x-python",
   "name": "python",
   "nbconvert_exporter": "python",
   "pygments_lexer": "ipython3",
   "version": "3.12.1"
  }
 },
 "nbformat": 4,
 "nbformat_minor": 2
}
